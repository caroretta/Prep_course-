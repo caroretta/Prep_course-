{
 "cells": [
  {
   "cell_type": "markdown",
   "metadata": {},
   "source": [
    "1) Crear un script con el nombre \"clase09_ej1.py\" que reciba 3 parametros a elección, verificando que sean exactamente esa cantidad, y muestre como salida los parámetros recibidos"
   ]
  },
  {
   "cell_type": "code",
   "execution_count": null,
   "metadata": {},
   "outputs": [],
   "source": []
  },
  {
   "cell_type": "markdown",
   "metadata": {},
   "source": [
    "2) Crear un script con el nombre \"clase09_ej2.py2\" que reciba como un valor de temperatura en grados centígrados, un valor de humedad y por último si llovio (Con True o False). Y que cada vez que sea invocado, cargue en el archivo provisto \"clase09_ej2.csv\" una marca de tiempo y esa información."
   ]
  },
  {
   "cell_type": "markdown",
   "metadata": {},
   "source": [
    "Para trabajar con tipos de datos relacionados con la medición del tiempo, como ser fechas, horarios o marcas de tiempo se puede utilizar la clase *datetime*"
   ]
  },
  {
   "cell_type": "code",
   "execution_count": null,
   "metadata": {},
   "outputs": [],
   "source": []
  },
  {
   "cell_type": "markdown",
   "metadata": {},
   "source": [
    "3) Crear un archivo a partir de los datos presentes en el diccionario provisto. El cual debe contener en la primera fila el nombre de las claves y luego cada línea los elementos i-ésimos de las listas de valores contiguos y separados por coma ','. Este archivo debe llamarse clase09_ej3.csv"
   ]
  },
  {
   "cell_type": "code",
   "execution_count": 17,
   "metadata": {},
   "outputs": [],
   "source": [
    "universidades={'nombre':['UTN','UBA','Harvard','MIT','Universidad de Oxford','Universidad de Mannheim','TUM','PSL','Copenhagen','Lund'],\n",
    "               'orden':[1,2,3,4,5,6,7,8,9,10],\n",
    "               'pais':['Argentina','Argentina','EEUU','EEUU','Inglaterra','Alemania','Alemania','Francia','Dinamarca','Suecia'],\n",
    "               'ciudad':['Cordoba','Buenos Aires','Massachusetts','Massachusetts','Oxford','Mannheim','Munich','Paris','Copenhague','Escandinavia'],\n",
    "               'especialidad':['Ingenieria','Abogacia','Ciencias economicas y politicas','Ingenieria','Humanidades','Ciencias economicas y politicas','Ingenierias y medicina','Humanidades','Biologia','Arte']}"
   ]
  },
  {
   "cell_type": "code",
   "execution_count": 18,
   "metadata": {},
   "outputs": [],
   "source": [
    "import os\n",
    "\n",
    "if not os.path.exists('clase10_ej3.csv'):\n",
    "    archivo_1= open('clase10_ej3.csv','w')\n",
    "    for clave in universidades.keys():\n",
    "        if (clave == 'especialidad'):\n",
    "            archivo_1.write(clave+'\\n')\n",
    "        else:\n",
    "            archivo_1.write(clave+',')\n",
    "else:   \n",
    "    with open('clase10_ej3.csv', mode='a', newline='') as archivo_1:\n",
    "        for clave in universidades.keys():\n",
    "            if (clave == 'especialidad'):\n",
    "                archivo_1.write(clave+'\\n')\n",
    "            else:\n",
    "                archivo_1.write(clave+',')"
   ]
  },
  {
   "cell_type": "code",
   "execution_count": 19,
   "metadata": {},
   "outputs": [],
   "source": [
    "archivo_1=open('clase10_ej3.csv','a')\n",
    "x=0\n",
    "while(x<10):\n",
    "    archivo_1.write(universidades['nombre'][x]+',')\n",
    "    archivo_1.write(str(universidades['orden'][x])+',')\n",
    "    archivo_1.write(universidades['pais'][x]+',')\n",
    "    archivo_1.write(universidades['ciudad'][x]+',')\n",
    "    archivo_1.write(str(universidades['especialidad'][x])+'\\n')\n",
    "    x += 1\n",
    "\n",
    "archivo_1.close()"
   ]
  },
  {
   "cell_type": "code",
   "execution_count": 20,
   "metadata": {},
   "outputs": [],
   "source": [
    "archivo_1.close()"
   ]
  },
  {
   "cell_type": "markdown",
   "metadata": {},
   "source": [
    "4) Mostrar el tamaño en MB del archivo generado en el punto 3"
   ]
  },
  {
   "cell_type": "code",
   "execution_count": 21,
   "metadata": {},
   "outputs": [
    {
     "name": "stdout",
     "output_type": "stream",
     "text": [
      "El tamaño de  'clase10_ej3.csv' es aproximadamente 0.00 MB\n"
     ]
    }
   ],
   "source": [
    "import os\n",
    "\n",
    "bytes = os.path.getsize('clase10_ej3.csv')\n",
    "mb = bytes / (1024 * 1024)  # Convertir bytes en MB \n",
    "print(f\"El tamaño de  'clase10_ej3.csv' es aproximadamente {mb:.2f} MB\")"
   ]
  },
  {
   "cell_type": "markdown",
   "metadata": {},
   "source": [
    "5) Crear una carpeta llamada clase09_montañas_altas"
   ]
  },
  {
   "cell_type": "code",
   "execution_count": 22,
   "metadata": {},
   "outputs": [],
   "source": [
    "import os\n",
    "\n",
    "os.makedirs('clase10_universidades_prestigiosas')"
   ]
  },
  {
   "cell_type": "markdown",
   "metadata": {},
   "source": [
    "6) Copiar el archivo clase09_ej3.scv en la carpeta clase09_montañas_altas usando la sentencia **os.system**"
   ]
  },
  {
   "cell_type": "code",
   "execution_count": 24,
   "metadata": {},
   "outputs": [
    {
     "data": {
      "text/plain": [
       "0"
      ]
     },
     "execution_count": 24,
     "metadata": {},
     "output_type": "execute_result"
    }
   ],
   "source": [
    "import os\n",
    "\n",
    "os.system('copy clase10_ej3.csv clase10_universidades_prestigiosas')"
   ]
  },
  {
   "cell_type": "markdown",
   "metadata": {},
   "source": [
    "7) Listar el contenido de la carpeta clase09_montañas_altas"
   ]
  },
  {
   "cell_type": "code",
   "execution_count": 25,
   "metadata": {},
   "outputs": [
    {
     "data": {
      "text/plain": [
       "['clase10_ej3.csv']"
      ]
     },
     "execution_count": 25,
     "metadata": {},
     "output_type": "execute_result"
    }
   ],
   "source": [
    "import os \n",
    "\n",
    "os.listdir('./clase10_universidades_prestigiosas')"
   ]
  }
 ],
 "metadata": {
  "kernelspec": {
   "display_name": "Python 3",
   "language": "python",
   "name": "python3"
  },
  "language_info": {
   "codemirror_mode": {
    "name": "ipython",
    "version": 3
   },
   "file_extension": ".py",
   "mimetype": "text/x-python",
   "name": "python",
   "nbconvert_exporter": "python",
   "pygments_lexer": "ipython3",
   "version": "3.10.11"
  },
  "orig_nbformat": 4
 },
 "nbformat": 4,
 "nbformat_minor": 2
}
