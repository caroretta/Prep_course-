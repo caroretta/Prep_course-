{
 "cells": [
  {
   "attachments": {},
   "cell_type": "markdown",
   "metadata": {},
   "source": [
    "## Clases y Programación Orientada a Objetos"
   ]
  },
  {
   "attachments": {},
   "cell_type": "markdown",
   "metadata": {},
   "source": [
    "1) Crear la clase vehículo que contenga los atributos:<br>\n",
    "Color<br>\n",
    "Si es moto, auto, camioneta ó camión<br>\n",
    "Cilindrada del motor"
   ]
  },
  {
   "cell_type": "code",
   "execution_count": 32,
   "metadata": {},
   "outputs": [],
   "source": [
    "class Vehiculo:\n",
    "    def __init__(self,color,tipo,cilindrada_del_motor):\n",
    "        self.color=color\n",
    "        self.tipo=tipo\n",
    "        self.cilindrada_del_motor=cilindrada_del_motor\n",
    "    "
   ]
  },
  {
   "attachments": {},
   "cell_type": "markdown",
   "metadata": {},
   "source": [
    "2) A la clase Vehiculo creada en el punto 1, agregar los siguientes métodos:<br>\n",
    "Acelerar<br>\n",
    "Frenar<br>\n",
    "Doblar<br>"
   ]
  },
  {
   "cell_type": "code",
   "execution_count": 33,
   "metadata": {},
   "outputs": [],
   "source": [
    "class Vehiculo:\n",
    "    def __init__(self,color,tipo,cilindrada_del_motor):\n",
    "        self.color=color\n",
    "        self.tipo=tipo\n",
    "        self.cilindrada_del_motor=cilindrada_del_motor\n",
    "        self.velocidad=0\n",
    "        self.direccion=0\n",
    "    \n",
    "    def acelerar(self,vel):\n",
    "        self.velocidad += vel\n",
    "\n",
    "    def frenar(self,vel):\n",
    "        self.velocidad-=vel\n",
    "\n",
    "    def doblar(self,grados):\n",
    "        self.direccion+=grados\n",
    "\n",
    "    def descripcion(self):\n",
    "        return print(\"El vehiculo\",self.tipo,self.color,\"con una cilindrada de\",self.cilindrada_del_motor)"
   ]
  },
  {
   "attachments": {},
   "cell_type": "markdown",
   "metadata": {},
   "source": [
    "3) Instanciar 3 objetos de la clase vehículo y ejecutar sus métodos, probar luego el resultado"
   ]
  },
  {
   "cell_type": "code",
   "execution_count": 34,
   "metadata": {},
   "outputs": [],
   "source": [
    "auto_1=Vehiculo(\"amarillo\",\"auto\",2)\n",
    "camion_1=Vehiculo(\"negro\",\"camion\",3.6)\n",
    "moto_1=Vehiculo(\"gris\",\"moto\",1.2)\n"
   ]
  },
  {
   "cell_type": "code",
   "execution_count": 35,
   "metadata": {},
   "outputs": [],
   "source": [
    "auto_1.acelerar(80)\n",
    "camion_1.acelerar(60)\n",
    "moto_1.acelerar(40)\n",
    "\n",
    "auto_1.frenar(70)\n",
    "camion_1.frenar(50)\n",
    "\n",
    "moto_1.doblar(90)\n"
   ]
  },
  {
   "attachments": {},
   "cell_type": "markdown",
   "metadata": {},
   "source": [
    "4) Agregar a la clase Vehiculo, un método que muestre su estado, es decir, a que velocidad se encuentra y su dirección. Y otro método que muestre color, tipo y cilindrada"
   ]
  },
  {
   "cell_type": "code",
   "execution_count": 36,
   "metadata": {},
   "outputs": [],
   "source": [
    "class Vehiculo:\n",
    "    def __init__(self,color,tipo,cilindrada_del_motor):\n",
    "        self.color=color\n",
    "        self.tipo=tipo\n",
    "        self.cilindrada_del_motor=cilindrada_del_motor\n",
    "        self.velocidad=0\n",
    "        self.direccion=0\n",
    "    \n",
    "    def acelerar(self,vel):\n",
    "        self.velocidad += vel\n",
    "\n",
    "    def frenar(self,vel):\n",
    "        self.velocidad-=vel\n",
    "\n",
    "    def doblar(self,grados):\n",
    "        self.direccion+=grados\n",
    "\n",
    "    def descripcion(self):\n",
    "        return print(\"El vehiculo\",self.tipo,self.color,\"con una cilindrada de\",self.cilindrada_del_motor)\n",
    "    \n",
    "    def estado(self):\n",
    "        return print(\"La velocidad del vehiculo:\",self.velocidad,\"con direccion:\",self.direccion)\n",
    "\n",
    "    "
   ]
  },
  {
   "cell_type": "code",
   "execution_count": 37,
   "metadata": {},
   "outputs": [
    {
     "name": "stdout",
     "output_type": "stream",
     "text": [
      "El vehiculo auto azul con una cilindrada de 2\n"
     ]
    }
   ],
   "source": [
    "auto_2=Vehiculo(\"azul\",\"auto\",2)\n",
    "auto_2.descripcion()\n"
   ]
  },
  {
   "cell_type": "code",
   "execution_count": 38,
   "metadata": {},
   "outputs": [
    {
     "name": "stdout",
     "output_type": "stream",
     "text": [
      "La velocidad del vehiculo: 0 con direccion: 0\n",
      "La velocidad del vehiculo: 80 con direccion: 90\n"
     ]
    }
   ],
   "source": [
    "auto_2.estado()\n",
    "auto_2.acelerar(80)\n",
    "auto_2.doblar(90)\n",
    "auto_2.estado()"
   ]
  },
  {
   "attachments": {},
   "cell_type": "markdown",
   "metadata": {},
   "source": [
    "5) Crear una clase que permita utilizar las funciones creadas en la práctica del módulo 7<br>\n",
    "Verificar Primo<br>\n",
    "Valor modal<br>\n",
    "Conversión grados<br>\n",
    "Factorial<br>"
   ]
  },
  {
   "cell_type": "code",
   "execution_count": 42,
   "metadata": {},
   "outputs": [],
   "source": [
    "class Herramientas:\n",
    "    def __init__(self) -> None:\n",
    "        pass\n",
    "\n",
    "    def primo(self,x):  \n",
    "        \"Verifica si es primo\"\n",
    "        primo = True\n",
    "        for div in range(2, x):\n",
    "                if (x % div == 0):\n",
    "                    primo = False\n",
    "                    break\n",
    "        return primo\n",
    "\n",
    "    def mas_repetido(self,lista_2):\n",
    "        unitario=[]\n",
    "        repetidos=[]\n",
    "        cantidad_de_veces=[]\n",
    "        mayor=0\n",
    "        menor=0 \n",
    "    \n",
    "        for i in lista_2:\n",
    "            if  lista_2.count(i)>1:\n",
    "                if not(i in repetidos):\n",
    "                    repetidos.append(i)\n",
    "                    cantidad_de_veces.append(lista_2.count(i))\n",
    "                else:\n",
    "                    unitario.append(i)\n",
    "\n",
    "        for j, x in enumerate(cantidad_de_veces):\n",
    "            if x>mayor:\n",
    "                mayor=x\n",
    "                numero=j\n",
    "            else:\n",
    "                menor=x\n",
    "        print(\"Mayor cantidad de repeticiones:\",mayor)\n",
    "        \n",
    "        for h, y in enumerate(repetidos):\n",
    "            if numero==h:\n",
    "                numero_1=y\n",
    "        print(\"El numero más repetido es:\",numero_1)\n",
    "\n",
    "    def conversion(self,valor,origen,destino):\n",
    "\n",
    "        valor_flo=float(valor)\n",
    "        celsius= (valor_flo - 32)/1.8\n",
    "        celsius_k=valor_flo-273.15\n",
    "\n",
    "        if origen==\"celsius\":\n",
    "            if destino==\"fahrenheit\":\n",
    "                fahrenheit = valor_flo * (9/5) + 32\n",
    "                print(f\"{valor_flo} grados Celsius equivalen a {fahrenheit:.2f} grados Fahrenheit\")\n",
    "            elif destino==\"kelvin\":\n",
    "                kelvin=valor_flo + 273.15\n",
    "                print(f\"{valor_flo} grados Celsius equivalen a {kelvin:.2f} grados Kelvin\")\n",
    "            elif destino==\"celsius\":\n",
    "                print(f\"{valor_flo} grados Celsius equivalen a {valor_flo:.2f} grados Celsius\")\n",
    "            else:\n",
    "                print(\"Conversion destino incorrecto\")\n",
    "        elif origen==\"fahrenheit\":\n",
    "            if destino==\"celsius\":\n",
    "                print(f\"{valor_flo} grados Fahrenheit equivalen a {celsius:.2f} grados Celsius\")\n",
    "            elif destino==\"kelvin\":\n",
    "                kelvin_fahr= celsius + 273.15\n",
    "                print(f\"{valor_flo} grados Fahrenheit equivalen a {kelvin_fahr:.2f} grados Kelvin\")\n",
    "            elif destino==\"fahrenheit\":\n",
    "                print(f\"{valor_flo} grados Fahrenheit equivalen a {valor_flo:.2f} grados Fahrenheit\")\n",
    "            else:\n",
    "                print(\"Conversion destino incorrecto\")\n",
    "        elif origen==\"kelvin\":\n",
    "            if destino==\"celsius\":\n",
    "                print(f\"{valor_flo} grados Kelvin equivalen a {celsius_k:.2f} grados Celsius\")\n",
    "            elif destino==\"fahrenheit\":\n",
    "                fahrenheit_k= ((celsius_k*1.8)+32)\n",
    "                print(f\"{valor_flo} grados Kelvin equivalen a {fahrenheit_k:.2f} grados Fahrenheit\")\n",
    "            elif destino==\"kelvin\":\n",
    "                print(f\"{valor_flo} grados Kelvin equivalen a {valor_flo:.2f} grados Kelvin\")\n",
    "            else:\n",
    "                print(\"Conversion destino incorrecto\")\n",
    "        else:\n",
    "            print(\"Conversion origen incorrecto\")\n",
    "\n",
    "    def factorial(self,numero):\n",
    "        \"Calcula el factorial de un numero\"\n",
    "        if type(numero)!= int:\n",
    "            return \"El numero debe ser un entero\"\n",
    "        if numero<0:\n",
    "            return \"El numero debe ser positivo\"\n",
    "        if numero<=1:\n",
    "            return 1\n",
    "        if (numero>1):\n",
    "            numero=numero* self.factorial(numero-1)\n",
    "        return numero\n",
    "    "
   ]
  },
  {
   "attachments": {},
   "cell_type": "markdown",
   "metadata": {},
   "source": [
    "6) Probar las funciones incorporadas en la clase del punto 5"
   ]
  },
  {
   "cell_type": "code",
   "execution_count": 12,
   "metadata": {},
   "outputs": [],
   "source": [
    "h = Herramientas()"
   ]
  },
  {
   "cell_type": "code",
   "execution_count": 14,
   "metadata": {},
   "outputs": [
    {
     "data": {
      "text/plain": [
       "True"
      ]
     },
     "execution_count": 14,
     "metadata": {},
     "output_type": "execute_result"
    }
   ],
   "source": [
    "h.primo(13)"
   ]
  },
  {
   "cell_type": "code",
   "execution_count": 15,
   "metadata": {},
   "outputs": [
    {
     "name": "stdout",
     "output_type": "stream",
     "text": [
      "Mayor cantidad de repeticiones: 3\n",
      "El numero más repetido es: 9\n"
     ]
    }
   ],
   "source": [
    "lista_5=[5,3,6,6,9,9,9,5]\n",
    "h.mas_repetido(lista_5)"
   ]
  },
  {
   "cell_type": "code",
   "execution_count": 23,
   "metadata": {},
   "outputs": [
    {
     "name": "stdout",
     "output_type": "stream",
     "text": [
      "30.0 grados Celsius equivalen a 303.15 grados Kelvin\n"
     ]
    }
   ],
   "source": [
    "h.conversion(30,\"celsius\",\"kelvin\")"
   ]
  },
  {
   "attachments": {},
   "cell_type": "markdown",
   "metadata": {},
   "source": [
    "7) Es necesario que la clase creada en el punto 5 contenga una lista, sobre la cual se apliquen las funciones incorporadas"
   ]
  },
  {
   "cell_type": "code",
   "execution_count": 48,
   "metadata": {},
   "outputs": [],
   "source": [
    "class Herramientas:\n",
    "    def __init__(self,lista_n):\n",
    "        self.lista_n=lista_n\n",
    "\n",
    "    def primo(self,x):  \n",
    "        \"Verifica si es primo\"\n",
    "        primo = True\n",
    "        for div in range(2, x):\n",
    "                if (x % div == 0):\n",
    "                    primo = False\n",
    "                    break\n",
    "        return primo\n",
    "    \n",
    "    def verificar_primo(self):\n",
    "        for i in self.lista_n:\n",
    "            if(self.primo(i)):\n",
    "                print(i,\"es un numero primo\")\n",
    "            else:\n",
    "                print(i,\"no es un numero primo\")\n",
    "\n",
    "    def mas_repetido(self,lista_n):\n",
    "        unitario=[]\n",
    "        repetidos=[]\n",
    "        cantidad_de_veces=[]\n",
    "        mayor=0\n",
    "        menor=0 \n",
    "    \n",
    "        for i in lista_n:\n",
    "            if  lista_n.count(i)>1:\n",
    "                if not(i in repetidos):\n",
    "                    repetidos.append(i)\n",
    "                    cantidad_de_veces.append(lista_n.count(i))\n",
    "                else:\n",
    "                    unitario.append(i)\n",
    "\n",
    "        for j, x in enumerate(cantidad_de_veces):\n",
    "            if x>mayor:\n",
    "                mayor=x\n",
    "                numero=j\n",
    "            else:\n",
    "                menor=x\n",
    "        print(\"Mayor cantidad de repeticiones:\",mayor)\n",
    "        \n",
    "        for h, y in enumerate(repetidos):\n",
    "            if numero==h:\n",
    "                numero_1=y\n",
    "        print(\"El numero más repetido es:\",numero_1)\n",
    "\n",
    "    def conversion_lista(self,origen,destino):\n",
    "\n",
    "        for j in self.lista_n:\n",
    "            self.conversion(j,origen,destino)\n",
    "\n",
    "    def conversion(self,valor,origen,destino):\n",
    "\n",
    "        valor_flo=float(valor)\n",
    "        celsius= (valor_flo - 32)/1.8\n",
    "        celsius_k=valor_flo-273.15\n",
    "\n",
    "        if origen==\"celsius\":\n",
    "            if destino==\"fahrenheit\":\n",
    "                fahrenheit = valor_flo * (9/5) + 32\n",
    "                print(f\"{valor_flo} grados Celsius equivalen a {fahrenheit:.2f} grados Fahrenheit\")\n",
    "            elif destino==\"kelvin\":\n",
    "                kelvin=valor_flo + 273.15\n",
    "                print(f\"{valor_flo} grados Celsius equivalen a {kelvin:.2f} grados Kelvin\")\n",
    "            elif destino==\"celsius\":\n",
    "                print(f\"{valor_flo} grados Celsius equivalen a {valor_flo:.2f} grados Celsius\")\n",
    "            else:\n",
    "                print(\"Conversion destino incorrecto\")\n",
    "        elif origen==\"fahrenheit\":\n",
    "            if destino==\"celsius\":\n",
    "                print(f\"{valor_flo} grados Fahrenheit equivalen a {celsius:.2f} grados Celsius\")\n",
    "            elif destino==\"kelvin\":\n",
    "                kelvin_fahr= celsius + 273.15\n",
    "                print(f\"{valor_flo} grados Fahrenheit equivalen a {kelvin_fahr:.2f} grados Kelvin\")\n",
    "            elif destino==\"fahrenheit\":\n",
    "                print(f\"{valor_flo} grados Fahrenheit equivalen a {valor_flo:.2f} grados Fahrenheit\")\n",
    "            else:\n",
    "                print(\"Conversion destino incorrecto\")\n",
    "        elif origen==\"kelvin\":\n",
    "            if destino==\"celsius\":\n",
    "                print(f\"{valor_flo} grados Kelvin equivalen a {celsius_k:.2f} grados Celsius\")\n",
    "            elif destino==\"fahrenheit\":\n",
    "                fahrenheit_k= ((celsius_k*1.8)+32)\n",
    "                print(f\"{valor_flo} grados Kelvin equivalen a {fahrenheit_k:.2f} grados Fahrenheit\")\n",
    "            elif destino==\"kelvin\":\n",
    "                print(f\"{valor_flo} grados Kelvin equivalen a {valor_flo:.2f} grados Kelvin\")\n",
    "            else:\n",
    "                print(\"Conversion destino incorrecto\")\n",
    "        else:\n",
    "            print(\"Conversion origen incorrecto\")\n",
    "\n",
    "    def factorial_lista(self):\n",
    "        for y in self.lista_n:\n",
    "            print(\"El factorial de\",y,\"es\",self.factorial(y))\n",
    "\n",
    "    def factorial(self,numero):\n",
    "        \"Calcula el factorial de un numero\"\n",
    "        if type(numero)!= int:\n",
    "            return \"El numero debe ser un entero\"\n",
    "        if numero<0:\n",
    "            return \"El numero debe ser positivo\"\n",
    "        if numero<=1:\n",
    "            return 1\n",
    "        if (numero>1):\n",
    "            numero=numero* self.factorial(numero-1)\n",
    "        return numero\n",
    "    "
   ]
  },
  {
   "cell_type": "code",
   "execution_count": 45,
   "metadata": {},
   "outputs": [],
   "source": [
    "h_2=Herramientas([2,2,3,4,4,4,5,5,11,13,20])"
   ]
  },
  {
   "cell_type": "code",
   "execution_count": 46,
   "metadata": {},
   "outputs": [
    {
     "name": "stdout",
     "output_type": "stream",
     "text": [
      "2 es un numero primo\n",
      "2 es un numero primo\n",
      "3 es un numero primo\n",
      "4 no es un numero primo\n",
      "4 no es un numero primo\n",
      "4 no es un numero primo\n",
      "5 es un numero primo\n",
      "5 es un numero primo\n",
      "11 es un numero primo\n",
      "13 es un numero primo\n",
      "20 no es un numero primo\n"
     ]
    }
   ],
   "source": [
    "h_2.verificar_primo()"
   ]
  },
  {
   "cell_type": "code",
   "execution_count": 59,
   "metadata": {},
   "outputs": [],
   "source": [
    "class Herramientas_2:\n",
    "    def __init__(self,lista_n):\n",
    "        self.lista_n=lista_n\n",
    "\n",
    "    def primo(self,x):  \n",
    "        \"Verifica si es primo\"\n",
    "        primo = True\n",
    "        for div in range(2, x):\n",
    "                if (x % div == 0):\n",
    "                    primo = False\n",
    "                    break\n",
    "        return primo\n",
    "    \n",
    "    def verificar_primo(self):\n",
    "        for i in self.lista_n:\n",
    "            if(self.primo(i)):\n",
    "                print(i,\"es un numero primo\")\n",
    "            else:\n",
    "                print(i,\"no es un numero primo\")\n",
    "\n",
    "    def mas_repetido(self):\n",
    "        unitario=[]\n",
    "        repetidos=[]\n",
    "        cantidad_de_veces=[]\n",
    "        mayor=0\n",
    "        menor=0 \n",
    "    \n",
    "        for i in self.lista_n:\n",
    "            if  self.lista_n.count(i)>1:\n",
    "                if not(i in repetidos):\n",
    "                    repetidos.append(i)\n",
    "                    cantidad_de_veces.append(self.lista_n.count(i))\n",
    "                else:\n",
    "                    unitario.append(i)\n",
    "\n",
    "        for j, x in enumerate(cantidad_de_veces):\n",
    "            if x>mayor:\n",
    "                mayor=x\n",
    "                numero=j\n",
    "            else:\n",
    "                menor=x\n",
    "        print(\"Mayor cantidad de repeticiones:\",mayor)\n",
    "        \n",
    "        for h, y in enumerate(repetidos):\n",
    "            if numero==h:\n",
    "                numero_1=y\n",
    "        print(\"El numero más repetido es:\",numero_1)\n",
    "\n",
    "    def conversion_lista(self,origen,destino):\n",
    "\n",
    "        for j in self.lista_n:\n",
    "            self.conversion(j,origen,destino)\n",
    "\n",
    "    def conversion(self,valor,origen,destino):\n",
    "\n",
    "        valor_flo=float(valor)\n",
    "        celsius= (valor_flo - 32)/1.8\n",
    "        celsius_k=valor_flo-273.15\n",
    "\n",
    "        if origen==\"celsius\":\n",
    "            if destino==\"fahrenheit\":\n",
    "                fahrenheit = valor_flo * (9/5) + 32\n",
    "                print(f\"{valor_flo} grados Celsius equivalen a {fahrenheit:.2f} grados Fahrenheit\")\n",
    "            elif destino==\"kelvin\":\n",
    "                kelvin=valor_flo + 273.15\n",
    "                print(f\"{valor_flo} grados Celsius equivalen a {kelvin:.2f} grados Kelvin\")\n",
    "            elif destino==\"celsius\":\n",
    "                print(f\"{valor_flo} grados Celsius equivalen a {valor_flo:.2f} grados Celsius\")\n",
    "            else:\n",
    "                print(\"Conversion destino incorrecto\")\n",
    "        elif origen==\"fahrenheit\":\n",
    "            if destino==\"celsius\":\n",
    "                print(f\"{valor_flo} grados Fahrenheit equivalen a {celsius:.2f} grados Celsius\")\n",
    "            elif destino==\"kelvin\":\n",
    "                kelvin_fahr= celsius + 273.15\n",
    "                print(f\"{valor_flo} grados Fahrenheit equivalen a {kelvin_fahr:.2f} grados Kelvin\")\n",
    "            elif destino==\"fahrenheit\":\n",
    "                print(f\"{valor_flo} grados Fahrenheit equivalen a {valor_flo:.2f} grados Fahrenheit\")\n",
    "            else:\n",
    "                print(\"Conversion destino incorrecto\")\n",
    "        elif origen==\"kelvin\":\n",
    "            if destino==\"celsius\":\n",
    "                print(f\"{valor_flo} grados Kelvin equivalen a {celsius_k:.2f} grados Celsius\")\n",
    "            elif destino==\"fahrenheit\":\n",
    "                fahrenheit_k= ((celsius_k*1.8)+32)\n",
    "                print(f\"{valor_flo} grados Kelvin equivalen a {fahrenheit_k:.2f} grados Fahrenheit\")\n",
    "            elif destino==\"kelvin\":\n",
    "                print(f\"{valor_flo} grados Kelvin equivalen a {valor_flo:.2f} grados Kelvin\")\n",
    "            else:\n",
    "                print(\"Conversion destino incorrecto\")\n",
    "        else:\n",
    "            print(\"Conversion origen incorrecto\")\n",
    "\n",
    "    def factorial_lista(self):\n",
    "        for y in self.lista_n:\n",
    "            print(\"El factorial de\",y,\"es\",self.factorial(y))\n",
    "\n",
    "    def factorial(self,numero):\n",
    "        \"Calcula el factorial de un numero\"\n",
    "        if type(numero)!= int:\n",
    "            return \"El numero debe ser un entero\"\n",
    "        if numero<0:\n",
    "            return \"El numero debe ser positivo\"\n",
    "        if numero<=1:\n",
    "            return 1\n",
    "        if (numero>1):\n",
    "            numero=numero* self.factorial(numero-1)\n",
    "        return numero\n",
    "    "
   ]
  },
  {
   "cell_type": "code",
   "execution_count": 60,
   "metadata": {},
   "outputs": [],
   "source": [
    "h_3=Herramientas_2([2,2,3,4,4,4,5,5,11,13,20])"
   ]
  },
  {
   "cell_type": "code",
   "execution_count": 61,
   "metadata": {},
   "outputs": [
    {
     "name": "stdout",
     "output_type": "stream",
     "text": [
      "Mayor cantidad de repeticiones: 3\n",
      "El numero más repetido es: 4\n"
     ]
    }
   ],
   "source": [
    "h_3.mas_repetido()"
   ]
  },
  {
   "cell_type": "code",
   "execution_count": 62,
   "metadata": {},
   "outputs": [
    {
     "name": "stdout",
     "output_type": "stream",
     "text": [
      "2.0 grados Celsius equivalen a 275.15 grados Kelvin\n",
      "2.0 grados Celsius equivalen a 275.15 grados Kelvin\n",
      "3.0 grados Celsius equivalen a 276.15 grados Kelvin\n",
      "4.0 grados Celsius equivalen a 277.15 grados Kelvin\n",
      "4.0 grados Celsius equivalen a 277.15 grados Kelvin\n",
      "4.0 grados Celsius equivalen a 277.15 grados Kelvin\n",
      "5.0 grados Celsius equivalen a 278.15 grados Kelvin\n",
      "5.0 grados Celsius equivalen a 278.15 grados Kelvin\n",
      "11.0 grados Celsius equivalen a 284.15 grados Kelvin\n",
      "13.0 grados Celsius equivalen a 286.15 grados Kelvin\n",
      "20.0 grados Celsius equivalen a 293.15 grados Kelvin\n"
     ]
    }
   ],
   "source": [
    "h_3.conversion_lista(\"celsius\",\"kelvin\")"
   ]
  },
  {
   "cell_type": "code",
   "execution_count": 63,
   "metadata": {},
   "outputs": [
    {
     "name": "stdout",
     "output_type": "stream",
     "text": [
      "El factorial de 2 es 2\n",
      "El factorial de 2 es 2\n",
      "El factorial de 3 es 6\n",
      "El factorial de 4 es 24\n",
      "El factorial de 4 es 24\n",
      "El factorial de 4 es 24\n",
      "El factorial de 5 es 120\n",
      "El factorial de 5 es 120\n",
      "El factorial de 11 es 39916800\n",
      "El factorial de 13 es 6227020800\n",
      "El factorial de 20 es 2432902008176640000\n"
     ]
    }
   ],
   "source": [
    "h_3.factorial_lista()"
   ]
  },
  {
   "attachments": {},
   "cell_type": "markdown",
   "metadata": {},
   "source": [
    "8) Crear un archivo .py aparte y ubicar allí la clase generada en el punto anterior. Luego realizar la importación del módulo y probar alguna de sus funciones"
   ]
  },
  {
   "cell_type": "code",
   "execution_count": 64,
   "metadata": {},
   "outputs": [],
   "source": [
    "from herramientas_3 import *"
   ]
  },
  {
   "cell_type": "code",
   "execution_count": 65,
   "metadata": {},
   "outputs": [],
   "source": [
    "mi_lista=Herramientas_3([1,1,9,11,11,11,3,3])"
   ]
  },
  {
   "cell_type": "code",
   "execution_count": 66,
   "metadata": {},
   "outputs": [
    {
     "name": "stdout",
     "output_type": "stream",
     "text": [
      "1 es un numero primo\n",
      "1 es un numero primo\n",
      "9 no es un numero primo\n",
      "11 es un numero primo\n",
      "11 es un numero primo\n",
      "11 es un numero primo\n",
      "3 es un numero primo\n",
      "3 es un numero primo\n"
     ]
    }
   ],
   "source": [
    "mi_lista.verificar_primo()"
   ]
  },
  {
   "cell_type": "code",
   "execution_count": 67,
   "metadata": {},
   "outputs": [
    {
     "name": "stdout",
     "output_type": "stream",
     "text": [
      "Mayor cantidad de repeticiones: 3\n",
      "El numero más repetido es: 11\n"
     ]
    }
   ],
   "source": [
    "mi_lista.mas_repetido()"
   ]
  }
 ],
 "metadata": {
  "interpreter": {
   "hash": "c85384e4cb51c8b72350f3a8712cc8351fdc3955e32a27f9b60c6242ab125f01"
  },
  "kernelspec": {
   "display_name": "Python 3 (ipykernel)",
   "language": "python",
   "name": "python3"
  },
  "language_info": {
   "codemirror_mode": {
    "name": "ipython",
    "version": 3
   },
   "file_extension": ".py",
   "mimetype": "text/x-python",
   "name": "python",
   "nbconvert_exporter": "python",
   "pygments_lexer": "ipython3",
   "version": "3.10.11"
  }
 },
 "nbformat": 4,
 "nbformat_minor": 4
}
