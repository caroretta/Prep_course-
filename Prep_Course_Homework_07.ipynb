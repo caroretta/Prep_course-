{
 "cells": [
  {
   "attachments": {},
   "cell_type": "markdown",
   "metadata": {},
   "source": [
    "## Funciones"
   ]
  },
  {
   "attachments": {},
   "cell_type": "markdown",
   "metadata": {},
   "source": [
    "1) Crear una función que reciba un número como parámetro y devuelva True si es primo y False si no lo es"
   ]
  },
  {
   "cell_type": "code",
   "execution_count": 3,
   "metadata": {},
   "outputs": [],
   "source": [
    "def primo(x):  \n",
    "    \"Verifica si es primo\"\n",
    "    primo = True\n",
    "    for div in range(2, x):\n",
    "            if (x % div == 0):\n",
    "                primo = False\n",
    "                break\n",
    "    return primo"
   ]
  },
  {
   "attachments": {},
   "cell_type": "markdown",
   "metadata": {},
   "source": [
    "2) Utilizando la función del punto 1, realizar otra función que reciba de parámetro una lista de números y devuelva sólo aquellos que son primos en otra lista"
   ]
  },
  {
   "cell_type": "code",
   "execution_count": 7,
   "metadata": {},
   "outputs": [],
   "source": [
    "def lista_primos(lista):\n",
    "    lista_1=[]\n",
    "    for n in lista:\n",
    "        if primo(int(n)):\n",
    "            lista_1.append(n)\n",
    "    return lista_1"
   ]
  },
  {
   "attachments": {},
   "cell_type": "markdown",
   "metadata": {},
   "source": [
    "3) Crear una función que al recibir una lista de números, devuelva el que más se repite y cuántas veces lo hace. Si hay más de un \"más repetido\", que devuelva cualquiera"
   ]
  },
  {
   "cell_type": "code",
   "execution_count": 115,
   "metadata": {},
   "outputs": [],
   "source": [
    "def mas_repetido(lista_2):\n",
    "    unitario=[]\n",
    "    repetidos=[]\n",
    "    cantidad_de_veces=[]\n",
    "    mayor=0\n",
    "    menor=0 \n",
    "    \n",
    "    for i in lista_2:\n",
    "        if  lista_2.count(i)>1:\n",
    "            if not(i in repetidos):\n",
    "                repetidos.append(i)\n",
    "                cantidad_de_veces.append(lista_2.count(i))\n",
    "            else:\n",
    "                unitario.append(i)\n",
    "\n",
    "    for j, x in enumerate(cantidad_de_veces):\n",
    "         if x>mayor:\n",
    "             mayor=x\n",
    "             numero=j\n",
    "         else:\n",
    "             menor=x\n",
    "    print(\"Mayor cantidad de repeticiones:\",mayor)\n",
    "    \n",
    "    for h, y in enumerate(repetidos):\n",
    "        if numero==h:\n",
    "            numero_1=y\n",
    "    print(\"El numero más repetido es:\",numero_1)\n",
    "    \n",
    "    #unir=zip(repetidos,cantidad_de_veces)\n",
    "    #for n in enumerate(unir):\n",
    "    #   print(n)\n",
    "        \n",
    "\n",
    "        \n",
    "\n",
    "\n"
   ]
  },
  {
   "cell_type": "code",
   "execution_count": 116,
   "metadata": {},
   "outputs": [
    {
     "name": "stdout",
     "output_type": "stream",
     "text": [
      "Mayor cantidad de repeticiones: 4\n",
      "El numero más repetido es: 2\n"
     ]
    }
   ],
   "source": [
    "prueba=[1,1,2,8,8,8,6,2,2,2]\n",
    "mas_repetido(prueba)"
   ]
  },
  {
   "attachments": {},
   "cell_type": "markdown",
   "metadata": {},
   "source": [
    "4) Crear una función que convierta entre grados Celsius, Farenheit y Kelvin<br>\n",
    "Fórmula 1\t: (°C × 9/5) + 32 = °F<br>\n",
    "Fórmula 2\t: °C + 273.15 = °K<br>\n",
    "Debe recibir 3 parámetros: el valor, la medida de orígen y la medida de destino\n"
   ]
  },
  {
   "cell_type": "code",
   "execution_count": 152,
   "metadata": {},
   "outputs": [],
   "source": [
    "\n",
    "def conversion(valor,origen,destino):\n",
    "\n",
    "    valor_flo=float(valor)\n",
    "    celsius= (valor_flo - 32)/1.8\n",
    "    celsius_k=valor_flo-273.15\n",
    "\n",
    "    if origen==\"celsius\":\n",
    "        if destino==\"fahrenheit\":\n",
    "            fahrenheit = valor_flo * (9/5) + 32\n",
    "            print(f\"{valor_flo} grados Celsius equivalen a {fahrenheit:.2f} grados Fahrenheit\")\n",
    "        elif destino==\"kelvin\":\n",
    "            kelvin=valor_flo + 273.15\n",
    "            print(f\"{valor_flo} grados Celsius equivalen a {kelvin:.2f} grados Kelvin\")\n",
    "        elif destino==\"celsius\":\n",
    "             print(f\"{valor_flo} grados Celsius equivalen a {valor_flo:.2f} grados Celsius\")\n",
    "        else:\n",
    "            print(\"Conversion destino incorrecto\")\n",
    "    elif origen==\"fahrenheit\":\n",
    "        if destino==\"celsius\":\n",
    "             print(f\"{valor_flo} grados Fahrenheit equivalen a {celsius:.2f} grados Celsius\")\n",
    "        elif destino==\"kelvin\":\n",
    "            kelvin_fahr= celsius + 273.15\n",
    "            print(f\"{valor_flo} grados Fahrenheit equivalen a {kelvin_fahr:.2f} grados Kelvin\")\n",
    "        elif destino==\"fahrenheit\":\n",
    "             print(f\"{valor_flo} grados Fahrenheit equivalen a {valor_flo:.2f} grados Fahrenheit\")\n",
    "        else:\n",
    "            print(\"Conversion destino incorrecto\")\n",
    "    elif origen==\"kelvin\":\n",
    "        if destino==\"celsius\":\n",
    "            print(f\"{valor_flo} grados Kelvin equivalen a {celsius_k:.2f} grados Celsius\")\n",
    "        elif destino==\"fahrenheit\":\n",
    "            fahrenheit_k= ((celsius_k*1.8)+32)\n",
    "            print(f\"{valor_flo} grados Kelvin equivalen a {fahrenheit_k:.2f} grados Fahrenheit\")\n",
    "        elif destino==\"kelvin\":\n",
    "             print(f\"{valor_flo} grados Kelvin equivalen a {valor_flo:.2f} grados Kelvin\")\n",
    "        else:\n",
    "            print(\"Conversion destino incorrecto\")\n",
    "    else:\n",
    "        print(\"Conversion origen incorrecto\")"
   ]
  },
  {
   "cell_type": "code",
   "execution_count": 157,
   "metadata": {},
   "outputs": [
    {
     "name": "stdout",
     "output_type": "stream",
     "text": [
      "30.0 grados Fahrenheit equivalen a 272.04 grados Kelvin\n",
      "200.0 grados Fahrenheit equivalen a 93.33 grados Celsius\n"
     ]
    }
   ],
   "source": [
    "conversion(30,\"fahrenheit\",\"kelvin\")\n",
    "conversion(200,\"fahrenheit\",\"celsius\")"
   ]
  },
  {
   "attachments": {},
   "cell_type": "markdown",
   "metadata": {},
   "source": [
    "5) Iterando una lista con los tres valores posibles de temperatura que recibe la función del punto 5, hacer un print para cada combinación de los mismos:"
   ]
  },
  {
   "cell_type": "code",
   "execution_count": 159,
   "metadata": {},
   "outputs": [
    {
     "name": "stdout",
     "output_type": "stream",
     "text": [
      "30.0 grados Celsius equivalen a 30.00 grados Celsius\n",
      "None\n",
      "30.0 grados Celsius equivalen a 86.00 grados Fahrenheit\n",
      "None\n",
      "30.0 grados Celsius equivalen a 303.15 grados Kelvin\n",
      "None\n",
      "30.0 grados Fahrenheit equivalen a -1.11 grados Celsius\n",
      "None\n",
      "30.0 grados Fahrenheit equivalen a 30.00 grados Fahrenheit\n",
      "None\n",
      "30.0 grados Fahrenheit equivalen a 272.04 grados Kelvin\n",
      "None\n",
      "30.0 grados Kelvin equivalen a -243.15 grados Celsius\n",
      "None\n",
      "30.0 grados Kelvin equivalen a -405.67 grados Fahrenheit\n",
      "None\n",
      "30.0 grados Kelvin equivalen a 30.00 grados Kelvin\n",
      "None\n"
     ]
    }
   ],
   "source": [
    "\n",
    "temperaturas=[\"celsius\",\"fahrenheit\",\"kelvin\"]\n",
    "\n",
    "for i in range(0,3):\n",
    "    for j in range(0,3):\n",
    "        print(conversion(30,temperaturas[i],temperaturas[j]))"
   ]
  },
  {
   "attachments": {},
   "cell_type": "markdown",
   "metadata": {},
   "source": [
    "6) Armar una función que devuelva el factorial de un número. Tener en cuenta que el usuario puede equivocarse y enviar de parámetro un número no entero o negativo"
   ]
  },
  {
   "cell_type": "code",
   "execution_count": 160,
   "metadata": {},
   "outputs": [],
   "source": [
    "def factorial(numero):\n",
    "    \"Calcula el factorial de un numero\"\n",
    "    if type(numero)!= int:\n",
    "        return \"El numero debe ser un entero\"\n",
    "    if numero<0:\n",
    "        return \"El numero debe ser positivo\"\n",
    "    if numero<=1:\n",
    "        return 1\n",
    "    if (numero>1):\n",
    "        numero=numero*factorial(numero-1)\n",
    "    return numero"
   ]
  },
  {
   "cell_type": "code",
   "execution_count": 162,
   "metadata": {},
   "outputs": [
    {
     "data": {
      "text/plain": [
       "40320"
      ]
     },
     "execution_count": 162,
     "metadata": {},
     "output_type": "execute_result"
    }
   ],
   "source": [
    "factorial(8)"
   ]
  },
  {
   "cell_type": "code",
   "execution_count": 163,
   "metadata": {},
   "outputs": [
    {
     "data": {
      "text/plain": [
       "'El numero debe ser positivo'"
      ]
     },
     "execution_count": 163,
     "metadata": {},
     "output_type": "execute_result"
    }
   ],
   "source": [
    "factorial(-2)"
   ]
  },
  {
   "cell_type": "code",
   "execution_count": 165,
   "metadata": {},
   "outputs": [
    {
     "data": {
      "text/plain": [
       "1"
      ]
     },
     "execution_count": 165,
     "metadata": {},
     "output_type": "execute_result"
    }
   ],
   "source": [
    "factorial(1)"
   ]
  },
  {
   "cell_type": "code",
   "execution_count": 164,
   "metadata": {},
   "outputs": [
    {
     "data": {
      "text/plain": [
       "'El numero debe ser un entero'"
      ]
     },
     "execution_count": 164,
     "metadata": {},
     "output_type": "execute_result"
    }
   ],
   "source": [
    "factorial(\"caro\")"
   ]
  },
  {
   "cell_type": "code",
   "execution_count": 166,
   "metadata": {},
   "outputs": [
    {
     "data": {
      "text/plain": [
       "'El numero debe ser un entero'"
      ]
     },
     "execution_count": 166,
     "metadata": {},
     "output_type": "execute_result"
    }
   ],
   "source": [
    "factorial(1.8)"
   ]
  }
 ],
 "metadata": {
  "interpreter": {
   "hash": "c85384e4cb51c8b72350f3a8712cc8351fdc3955e32a27f9b60c6242ab125f01"
  },
  "kernelspec": {
   "display_name": "Python 3 (ipykernel)",
   "language": "python",
   "name": "python3"
  },
  "language_info": {
   "codemirror_mode": {
    "name": "ipython",
    "version": 3
   },
   "file_extension": ".py",
   "mimetype": "text/x-python",
   "name": "python",
   "nbconvert_exporter": "python",
   "pygments_lexer": "ipython3",
   "version": "3.9.7"
  }
 },
 "nbformat": 4,
 "nbformat_minor": 4
}
